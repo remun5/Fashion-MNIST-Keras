{
  "nbformat": 4,
  "nbformat_minor": 0,
  "metadata": {
    "colab": {
      "name": "FashionMNIST_Keras.ipynb",
      "provenance": [],
      "authorship_tag": "ABX9TyPzl/a+4y8l/vC4KSi6UT3o",
      "include_colab_link": true
    },
    "kernelspec": {
      "name": "python3",
      "display_name": "Python 3"
    }
  },
  "cells": [
    {
      "cell_type": "markdown",
      "metadata": {
        "id": "view-in-github",
        "colab_type": "text"
      },
      "source": [
        "<a href=\"https://colab.research.google.com/github/remun5/Fashion_MNIST_Keras/blob/master/FashionMNIST_Keras.ipynb\" target=\"_parent\"><img src=\"https://colab.research.google.com/assets/colab-badge.svg\" alt=\"Open In Colab\"/></a>"
      ]
    },
    {
      "cell_type": "markdown",
      "metadata": {
        "id": "lbQ_dxPQgcTg",
        "colab_type": "text"
      },
      "source": [
        "# **Fashion MNIST Dataset using Keras**"
      ]
    },
    {
      "cell_type": "markdown",
      "metadata": {
        "id": "DOV1Pz-9gnrm",
        "colab_type": "text"
      },
      "source": [
        "Fashion MNIST is a dataset provided by Zalando consisting of 60000 training and 10000 testing images. Like the MNIST dataset, this dataset consists of 10 different classes, each corresponding to different clothing item. The targets are integers from 0-9, each corresponding to:\n",
        "\n",
        "0. T-shirt/top\n",
        "1. Trouser\n",
        "2. Pullover\n",
        "3. Dress\n",
        "4. Coat\n",
        "5. Sandal\n",
        "6. Shirt\n",
        "7. Sneaker\n",
        "8. Bag\n",
        "9. Ankle boot\n",
        "\n",
        "The image is a 28 $\\times$ 28 pixels representation. The images consist of a single channel.\n"
      ]
    },
    {
      "cell_type": "markdown",
      "metadata": {
        "id": "GOOLhlEjiZnB",
        "colab_type": "text"
      },
      "source": [
        "The idea of this work is to do a simple image classification task using Keras."
      ]
    },
    {
      "cell_type": "code",
      "metadata": {
        "id": "-AzUN1Fdh6Bm",
        "colab_type": "code",
        "colab": {
          "base_uri": "https://localhost:8080/",
          "height": 34
        },
        "outputId": "2685d2fd-4cba-4a05-e21f-90c3a5667e6e"
      },
      "source": [
        "import numpy as np\n",
        "import pandas as pd\n",
        "import matplotlib.pyplot as plt\n",
        "from keras.models import Model\n",
        "from keras.datasets import fashion_mnist\n",
        "from keras.utils import np_utils\n",
        "from keras.layers import Input, Dense, Flatten, BatchNormalization"
      ],
      "execution_count": 1,
      "outputs": [
        {
          "output_type": "stream",
          "text": [
            "Using TensorFlow backend.\n"
          ],
          "name": "stderr"
        }
      ]
    },
    {
      "cell_type": "code",
      "metadata": {
        "id": "gHah1Pz8uxYg",
        "colab_type": "code",
        "colab": {
          "base_uri": "https://localhost:8080/",
          "height": 153
        },
        "outputId": "409a24cf-8216-4cec-851e-069842f6cec3"
      },
      "source": [
        "(X_train, y_train), (X_test, y_test) = fashion_mnist.load_data()"
      ],
      "execution_count": 2,
      "outputs": [
        {
          "output_type": "stream",
          "text": [
            "Downloading data from http://fashion-mnist.s3-website.eu-central-1.amazonaws.com/train-labels-idx1-ubyte.gz\n",
            "32768/29515 [=================================] - 0s 3us/step\n",
            "Downloading data from http://fashion-mnist.s3-website.eu-central-1.amazonaws.com/train-images-idx3-ubyte.gz\n",
            "26427392/26421880 [==============================] - 2s 0us/step\n",
            "Downloading data from http://fashion-mnist.s3-website.eu-central-1.amazonaws.com/t10k-labels-idx1-ubyte.gz\n",
            "8192/5148 [===============================================] - 0s 0us/step\n",
            "Downloading data from http://fashion-mnist.s3-website.eu-central-1.amazonaws.com/t10k-images-idx3-ubyte.gz\n",
            "4423680/4422102 [==============================] - 1s 0us/step\n"
          ],
          "name": "stdout"
        }
      ]
    },
    {
      "cell_type": "code",
      "metadata": {
        "id": "_94Bi0Pku48g",
        "colab_type": "code",
        "colab": {
          "base_uri": "https://localhost:8080/",
          "height": 85
        },
        "outputId": "ae337ad0-ec2c-485e-8e64-3144df9cc6e2"
      },
      "source": [
        "print(X_train.shape)\n",
        "print(y_train.shape)\n",
        "print(X_test.shape)\n",
        "print(y_test.shape)"
      ],
      "execution_count": 3,
      "outputs": [
        {
          "output_type": "stream",
          "text": [
            "(60000, 28, 28)\n",
            "(60000,)\n",
            "(10000, 28, 28)\n",
            "(10000,)\n"
          ],
          "name": "stdout"
        }
      ]
    },
    {
      "cell_type": "code",
      "metadata": {
        "id": "ve_f9fHy8N9-",
        "colab_type": "code",
        "colab": {
          "base_uri": "https://localhost:8080/",
          "height": 34
        },
        "outputId": "2e7ba1a9-6a97-48a2-d746-582da2626669"
      },
      "source": [
        "print(y_train[:10])"
      ],
      "execution_count": 4,
      "outputs": [
        {
          "output_type": "stream",
          "text": [
            "[9 0 0 3 0 2 7 2 5 5]\n"
          ],
          "name": "stdout"
        }
      ]
    },
    {
      "cell_type": "markdown",
      "metadata": {
        "id": "2PfNy0aTiioa",
        "colab_type": "text"
      },
      "source": [
        "As we can see that the target is a vector with values ranging from 0-9, we need to first one hot encode, so that each target element becomes a 10 element vector."
      ]
    },
    {
      "cell_type": "code",
      "metadata": {
        "id": "EKbfhqxDFZR4",
        "colab_type": "code",
        "colab": {}
      },
      "source": [
        "y_train_enc = np_utils.to_categorical(y_train)\n",
        "y_test_enc = np_utils.to_categorical(y_test)"
      ],
      "execution_count": 5,
      "outputs": []
    },
    {
      "cell_type": "code",
      "metadata": {
        "id": "lPAqbej2vESW",
        "colab_type": "code",
        "colab": {}
      },
      "source": [
        "def plot_index(i):\n",
        "  plt.figure(figsize = (2,2))\n",
        "  plt.imshow(X_train[i], cmap='gray')"
      ],
      "execution_count": 6,
      "outputs": []
    },
    {
      "cell_type": "code",
      "metadata": {
        "id": "ydMgLqF7lIYm",
        "colab_type": "code",
        "colab": {
          "base_uri": "https://localhost:8080/",
          "height": 159
        },
        "outputId": "82cb6abe-5496-4294-abac-c77ec97ef392"
      },
      "source": [
        "plot_index(30)"
      ],
      "execution_count": 7,
      "outputs": [
        {
          "output_type": "display_data",
          "data": {
            "image/png": "[encoded data removed]",
            "text/plain": [
              "<Figure size 144x144 with 1 Axes>"
            ]
          },
          "metadata": {
            "tags": [],
            "needs_background": "light"
          }
        }
      ]
    },
    {
      "cell_type": "markdown",
      "metadata": {
        "id": "DkW1ez8nbVvF",
        "colab_type": "text"
      },
      "source": [
        "Next we define the MNIST model. In Keras, we overload the objects for different layers. We have a Flatten layer followed by 3 hidden layers, each with 200, 50 and 30 neurons respectively. The first two layers are softmax layers and the final layer is the softmax layer."
      ]
    },
    {
      "cell_type": "code",
      "metadata": {
        "id": "gXmvHBqQqRw9",
        "colab_type": "code",
        "colab": {}
      },
      "source": [
        "def MNIST_model(input_shape):\n",
        "  X_input = Input(shape=input_shape)\n",
        "  X = Flatten()(X_input)\n",
        "  X = Dense(200, activation='relu', name='layer2')(X)\n",
        "  X = BatchNormalization()(X)\n",
        "  X = Dense(50, activation='relu', name='layer3')(X)\n",
        "  X = BatchNormalization()(X)\n",
        "  X = Dense(30, activation='relu', name='layer4')(X)\n",
        "  X = Dense(10, activation='softmax', name='layer5')(X)\n",
        "  model = Model(inputs = X_input, outputs = X, name='MNIST')\n",
        "  return model"
      ],
      "execution_count": 8,
      "outputs": []
    },
    {
      "cell_type": "code",
      "metadata": {
        "id": "2oEEZkb4rdoA",
        "colab_type": "code",
        "colab": {}
      },
      "source": [
        "mnist = MNIST_model((28, 28))"
      ],
      "execution_count": 9,
      "outputs": []
    },
    {
      "cell_type": "code",
      "metadata": {
        "id": "gVZ3Ugojr2KF",
        "colab_type": "code",
        "colab": {
          "base_uri": "https://localhost:8080/",
          "height": 442
        },
        "outputId": "18a4eca2-3256-47d1-bf87-4a93dc735b20"
      },
      "source": [
        "print(mnist.summary())"
      ],
      "execution_count": 10,
      "outputs": [
        {
          "output_type": "stream",
          "text": [
            "Model: \"MNIST\"\n",
            "_________________________________________________________________\n",
            "Layer (type)                 Output Shape              Param #   \n",
            "=================================================================\n",
            "input_1 (InputLayer)         (None, 28, 28)            0         \n",
            "_________________________________________________________________\n",
            "flatten_1 (Flatten)          (None, 784)               0         \n",
            "_________________________________________________________________\n",
            "layer2 (Dense)               (None, 200)               157000    \n",
            "_________________________________________________________________\n",
            "batch_normalization_1 (Batch (None, 200)               800       \n",
            "_________________________________________________________________\n",
            "layer3 (Dense)               (None, 50)                10050     \n",
            "_________________________________________________________________\n",
            "batch_normalization_2 (Batch (None, 50)                200       \n",
            "_________________________________________________________________\n",
            "layer4 (Dense)               (None, 30)                1530      \n",
            "_________________________________________________________________\n",
            "layer5 (Dense)               (None, 10)                310       \n",
            "=================================================================\n",
            "Total params: 169,890\n",
            "Trainable params: 169,390\n",
            "Non-trainable params: 500\n",
            "_________________________________________________________________\n",
            "None\n"
          ],
          "name": "stdout"
        }
      ]
    },
    {
      "cell_type": "markdown",
      "metadata": {
        "id": "3YtPj0PBbsoI",
        "colab_type": "text"
      },
      "source": [
        "We compile our model with Adam gradient descent algorithm. The loss function is categorical crossentropy for the softmax function."
      ]
    },
    {
      "cell_type": "code",
      "metadata": {
        "id": "Dol1sDlisDU3",
        "colab_type": "code",
        "colab": {}
      },
      "source": [
        "mnist.compile(optimizer = \"Adam\", loss = \"categorical_crossentropy\", metrics = [\"accuracy\"])"
      ],
      "execution_count": 11,
      "outputs": []
    },
    {
      "cell_type": "code",
      "metadata": {
        "id": "EKi11r0p2whm",
        "colab_type": "code",
        "colab": {
          "base_uri": "https://localhost:8080/",
          "height": 544
        },
        "outputId": "b964ad16-2c95-4c7b-a6e5-fa8a3abf0ff9"
      },
      "source": [
        "mnist.fit(x = X_train, y = y_train_enc, epochs = 15, batch_size = 16)"
      ],
      "execution_count": 12,
      "outputs": [
        {
          "output_type": "stream",
          "text": [
            "Epoch 1/15\n",
            "60000/60000 [==============================] - 19s 319us/step - loss: 0.5404 - accuracy: 0.8076\n",
            "Epoch 2/15\n",
            "60000/60000 [==============================] - 21s 355us/step - loss: 0.4253 - accuracy: 0.8461\n",
            "Epoch 3/15\n",
            "60000/60000 [==============================] - 18s 294us/step - loss: 0.3949 - accuracy: 0.8558\n",
            "Epoch 4/15\n",
            "60000/60000 [==============================] - 19s 315us/step - loss: 0.3724 - accuracy: 0.8640\n",
            "Epoch 5/15\n",
            "60000/60000 [==============================] - 19s 314us/step - loss: 0.3558 - accuracy: 0.8697\n",
            "Epoch 6/15\n",
            "60000/60000 [==============================] - 18s 303us/step - loss: 0.3417 - accuracy: 0.8753\n",
            "Epoch 7/15\n",
            "60000/60000 [==============================] - 19s 310us/step - loss: 0.3303 - accuracy: 0.8789\n",
            "Epoch 8/15\n",
            "60000/60000 [==============================] - 19s 316us/step - loss: 0.3217 - accuracy: 0.8810\n",
            "Epoch 9/15\n",
            "60000/60000 [==============================] - 19s 313us/step - loss: 0.3113 - accuracy: 0.8846\n",
            "Epoch 10/15\n",
            "60000/60000 [==============================] - 18s 301us/step - loss: 0.3096 - accuracy: 0.8862\n",
            "Epoch 11/15\n",
            "60000/60000 [==============================] - 19s 315us/step - loss: 0.3007 - accuracy: 0.8884\n",
            "Epoch 12/15\n",
            "60000/60000 [==============================] - 19s 319us/step - loss: 0.2975 - accuracy: 0.8898\n",
            "Epoch 13/15\n",
            "60000/60000 [==============================] - 19s 308us/step - loss: 0.2942 - accuracy: 0.8918\n",
            "Epoch 14/15\n",
            "60000/60000 [==============================] - 19s 310us/step - loss: 0.2893 - accuracy: 0.8921\n",
            "Epoch 15/15\n",
            "60000/60000 [==============================] - 18s 300us/step - loss: 0.2836 - accuracy: 0.8942\n"
          ],
          "name": "stdout"
        },
        {
          "output_type": "execute_result",
          "data": {
            "text/plain": [
              "<keras.callbacks.callbacks.History at 0x7f3667345160>"
            ]
          },
          "metadata": {
            "tags": []
          },
          "execution_count": 12
        }
      ]
    },
    {
      "cell_type": "code",
      "metadata": {
        "id": "inFCKrXC8rV7",
        "colab_type": "code",
        "colab": {
          "base_uri": "https://localhost:8080/",
          "height": 153
        },
        "outputId": "695fa07c-b49c-442c-ec31-db08dc7929e4"
      },
      "source": [
        "preds_train = mnist.evaluate(x=X_train, y = y_train_enc)\n",
        "print('Training::')\n",
        "print (\"Loss = \" + str(preds_train[0]))\n",
        "print (\"Training Accuracy = \" + str(preds_train[1]))\n",
        "\n",
        "preds = mnist.evaluate(x = X_test, y = y_test_enc)\n",
        "print('Testing::')\n",
        "print (\"Loss = \" + str(preds[0]))\n",
        "print (\"Test Accuracy = \" + str(preds[1]))"
      ],
      "execution_count": 13,
      "outputs": [
        {
          "output_type": "stream",
          "text": [
            "60000/60000 [==============================] - 2s 39us/step\n",
            "Training::\n",
            "Loss = 0.6354603328267733\n",
            "Training Accuracy = 0.9135333299636841\n",
            "10000/10000 [==============================] - 0s 40us/step\n",
            "Testing::\n",
            "Loss = 0.4804776620864868\n",
            "Test Accuracy = 0.8809999823570251\n"
          ],
          "name": "stdout"
        }
      ]
    },
    {
      "cell_type": "markdown",
      "metadata": {
        "id": "rv60f7aBjNlF",
        "colab_type": "text"
      },
      "source": [
        "As you can see here, with a simple neural network model, we could achieve 91% training and 88 percent test accuracy. One way to improve this is to use Convolutional Neural Networks, which we will do in our next project."
      ]
    },
    {
      "cell_type": "code",
      "metadata": {
        "id": "hoqYAKEejJlu",
        "colab_type": "code",
        "colab": {}
      },
      "source": [
        ""
      ],
      "execution_count": null,
      "outputs": []
    }
  ]
}